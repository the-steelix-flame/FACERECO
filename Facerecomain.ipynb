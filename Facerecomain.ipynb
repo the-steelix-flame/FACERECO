{
  "nbformat": 4,
  "nbformat_minor": 0,
  "metadata": {
    "colab": {
      "provenance": [],
      "gpuType": "T4",
      "authorship_tag": "ABX9TyNLDRpyWIA4v4nCs89NbFdR",
      "include_colab_link": true
    },
    "kernelspec": {
      "name": "python3",
      "display_name": "Python 3"
    },
    "language_info": {
      "name": "python"
    },
    "accelerator": "GPU"
  },
  "cells": [
    {
      "cell_type": "markdown",
      "metadata": {
        "id": "view-in-github",
        "colab_type": "text"
      },
      "source": [
        "<a href=\"https://colab.research.google.com/github/the-steelix-flame/FACERECO/blob/main/Facerecomain.ipynb\" target=\"_parent\"><img src=\"https://colab.research.google.com/assets/colab-badge.svg\" alt=\"Open In Colab\"/></a>"
      ]
    },
    {
      "cell_type": "code",
      "execution_count": 1,
      "metadata": {
        "colab": {
          "base_uri": "https://localhost:8080/"
        },
        "id": "9SftsNFhfEBt",
        "outputId": "fd8d60fb-5c83-4335-8bbd-04175f4cd72a"
      },
      "outputs": [
        {
          "output_type": "stream",
          "name": "stdout",
          "text": [
            "Collecting face_recognition\n",
            "  Downloading face_recognition-1.3.0-py2.py3-none-any.whl.metadata (21 kB)\n",
            "Collecting face-recognition-models>=0.3.0 (from face_recognition)\n",
            "  Downloading face_recognition_models-0.3.0.tar.gz (100.1 MB)\n",
            "\u001b[2K     \u001b[90m━━━━━━━━━━━━━━━━━━━━━━━━━━━━━━━━━━━━━━━━\u001b[0m \u001b[32m100.1/100.1 MB\u001b[0m \u001b[31m8.4 MB/s\u001b[0m eta \u001b[36m0:00:00\u001b[0m\n",
            "\u001b[?25h  Preparing metadata (setup.py) ... \u001b[?25l\u001b[?25hdone\n",
            "Requirement already satisfied: Click>=6.0 in /usr/local/lib/python3.11/dist-packages (from face_recognition) (8.1.8)\n",
            "Requirement already satisfied: dlib>=19.7 in /usr/local/lib/python3.11/dist-packages (from face_recognition) (19.24.2)\n",
            "Requirement already satisfied: numpy in /usr/local/lib/python3.11/dist-packages (from face_recognition) (1.26.4)\n",
            "Requirement already satisfied: Pillow in /usr/local/lib/python3.11/dist-packages (from face_recognition) (11.1.0)\n",
            "Downloading face_recognition-1.3.0-py2.py3-none-any.whl (15 kB)\n",
            "Building wheels for collected packages: face-recognition-models\n",
            "  Building wheel for face-recognition-models (setup.py) ... \u001b[?25l\u001b[?25hdone\n",
            "  Created wheel for face-recognition-models: filename=face_recognition_models-0.3.0-py2.py3-none-any.whl size=100566162 sha256=7ba641ceb79f0293ddcc521753ad8eda6733261ce78d67b89e25140cf19f6495\n",
            "  Stored in directory: /root/.cache/pip/wheels/04/52/ec/9355da79c29f160b038a20c784db2803c2f9fa2c8a462c176a\n",
            "Successfully built face-recognition-models\n",
            "Installing collected packages: face-recognition-models, face_recognition\n",
            "Successfully installed face-recognition-models-0.3.0 face_recognition-1.3.0\n"
          ]
        }
      ],
      "source": [
        "!pip install face_recognition"
      ]
    },
    {
      "cell_type": "code",
      "source": [
        "import cv2\n",
        "import face_recognition\n",
        "\n",
        "def preprocess_image(image_path):\n",
        "    image = face_recognition.load_image_file(image_path)\n",
        "    face_locations = face_recognition.face_locations(image)\n",
        "    if face_locations:\n",
        "        top, right, bottom, left = face_locations[0]\n",
        "        face_image = image[top:bottom, left:right]\n",
        "        return cv2.resize(face_image, (160, 160))\n",
        "    return None"
      ],
      "metadata": {
        "id": "78jajt3GgkF3"
      },
      "execution_count": 2,
      "outputs": []
    },
    {
      "cell_type": "code",
      "source": [
        "import face_recognition\n",
        "import pickle\n",
        "\n",
        "def generate_encodings(images_dir):\n",
        "    encodings = {}\n",
        "    for image_path in os.listdir(images_dir):\n",
        "        employee_id = os.path.splitext(image_path)[0]\n",
        "        image = preprocess_image(os.path.join(images_dir, image_path))\n",
        "        if image is not None:\n",
        "            encodings[employee_id] = face_recognition.face_encodings(image)[0]\n",
        "    with open('data/encodings.pkl', 'wb') as f:\n",
        "        pickle.dump(encodings, f)"
      ],
      "metadata": {
        "id": "n7Hx3xpsgm-h"
      },
      "execution_count": 3,
      "outputs": []
    },
    {
      "cell_type": "code",
      "source": [
        "import cv2\n",
        "import face_recognition\n",
        "import pickle\n",
        "\n",
        "def recognize_faces():\n",
        "    with open('data/encodings.pkl', 'rb') as f:\n",
        "        encodings = pickle.load(f)\n",
        "    video_capture = cv2.VideoCapture(0)\n",
        "    while True:\n",
        "        ret, frame = video_capture.read()\n",
        "        face_locations = face_recognition.face_locations(frame)\n",
        "        face_encodings = face_recognition.face_encodings(frame, face_locations)\n",
        "        for (top, right, bottom, left), face_encoding in zip(face_locations, face_encodings):\n",
        "            matches = face_recognition.compare_faces(list(encodings.values()), face_encoding)\n",
        "            if True in matches:\n",
        "                employee_id = list(encodings.keys())[matches.index(True)]\n",
        "                print(f\"Employee {employee_id} recognized\")\n",
        "        cv2.imshow('Video', frame)\n",
        "        if cv2.waitKey(1) & 0xFF == ord('q'):\n",
        "            break\n",
        "    video_capture.release()\n",
        "    cv2.destroyAllWindows()"
      ],
      "metadata": {
        "id": "CEjIkR-Lg2lK"
      },
      "execution_count": 4,
      "outputs": []
    },
    {
      "cell_type": "code",
      "source": [
        "import sqlite3\n",
        "\n",
        "def create_database():\n",
        "    conn = sqlite3.connect('attendance.db')\n",
        "    c = conn.cursor()\n",
        "    c.execute('''CREATE TABLE IF NOT EXISTS employees\n",
        "                  (id TEXT PRIMARY KEY, name TEXT, encoding BLOB)''')\n",
        "    c.execute('''CREATE TABLE IF NOT EXISTS attendance\n",
        "                  (id TEXT, entry_time DATETIME)''')\n",
        "    conn.commit()\n",
        "    conn.close()"
      ],
      "metadata": {
        "id": "iwOdLk7tg6KX"
      },
      "execution_count": 5,
      "outputs": []
    },
    {
      "cell_type": "code",
      "source": [
        "def add_employee(employee_id, name, encoding):\n",
        "    conn = sqlite3.connect('attendance.db')\n",
        "    c = conn.cursor()\n",
        "    c.execute(\"INSERT INTO employees VALUES (?, ?, ?)\", (employee_id, name, encoding))\n",
        "    conn.commit()\n",
        "    conn.close()"
      ],
      "metadata": {
        "id": "Pxunh_crg8-y"
      },
      "execution_count": 6,
      "outputs": []
    },
    {
      "cell_type": "code",
      "source": [
        "import datetime\n",
        "\n",
        "def log_entry(employee_id):\n",
        "    conn = sqlite3.connect('attendance.db')\n",
        "    c = conn.cursor()\n",
        "    c.execute(\"INSERT INTO attendance VALUES (?, ?)\", (employee_id, datetime.datetime.now()))\n",
        "    conn.commit()\n",
        "    conn.close()"
      ],
      "metadata": {
        "id": "QLY4yPLGhA1B"
      },
      "execution_count": 7,
      "outputs": []
    },
    {
      "cell_type": "code",
      "source": [
        "from flask import Flask, render_template\n",
        "import sqlite3\n",
        "\n",
        "app = Flask(__name__)\n",
        "\n",
        "@app.route('/')\n",
        "def index():\n",
        "    conn = sqlite3.connect('attendance.db')\n",
        "    c = conn.cursor()\n",
        "    c.execute(\"SELECT * FROM attendance\")\n",
        "    records = c.fetchall()\n",
        "    conn.close()\n",
        "    return render_template('index.html', records=records)\n",
        "\n",
        "if __name__ == '__main__':\n",
        "    app.run(debug=True)"
      ],
      "metadata": {
        "id": "NXY09alpjn-T"
      },
      "execution_count": null,
      "outputs": []
    }
  ]
}